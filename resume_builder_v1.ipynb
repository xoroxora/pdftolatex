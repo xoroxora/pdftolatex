{
 "cells": [
  {
   "cell_type": "markdown",
   "metadata": {},
   "source": [
    "# Resume Builder v1.0 - PDF Upload and Parser\n",
    "\n",
    "This notebook allows you to upload a PDF resume and extract its content for further processing."
   ]
  },
  {
   "cell_type": "markdown",
   "metadata": {},
   "source": [
    "## Step 1: Install Required Dependencies\n",
    "\n",
    "Run this cell to install the necessary libraries for PDF processing and file upload widgets."
   ]
  },
  {
   "cell_type": "code",
   "execution_count": null,
   "metadata": {},
   "outputs": [],
   "source": [
    "# Install required packages\n",
    "!pip install ipywidgets pdfplumber PyPDF2 -q\n",
    "\n",
    "# Enable widgets extension if not already enabled\n",
    "!jupyter nbextension enable --py widgetsnbextension --sys-prefix"
   ]
  },
  {
   "cell_type": "markdown",
   "metadata": {},
   "source": [
    "## Step 2: Import Required Libraries"
   ]
  },
  {
   "cell_type": "code",
   "execution_count": null,
   "metadata": {},
   "outputs": [],
   "source": [
    "import ipywidgets as widgets\n",
    "from IPython.display import display, HTML, clear_output\n",
    "import pdfplumber\n",
    "import PyPDF2\n",
    "import io\n",
    "import os\n",
    "from typing import Optional, Dict, Any"
   ]
  },
  {
   "cell_type": "markdown",
   "metadata": {},
   "source": [
    "## Step 3: Create PDF Upload Widget with Validation"
   ]
  },
  {
   "cell_type": "code",
   "execution_count": null,
   "metadata": {},
   "outputs": [],
   "source": [
    "class PDFResumeUploader:\n",
    "    \"\"\"A class to handle PDF resume uploads with validation.\"\"\"\n",
    "    \n",
    "    def __init__(self):\n",
    "        self.upload_widget = None\n",
    "        self.status_output = widgets.Output()\n",
    "        self.content_output = widgets.Output()\n",
    "        self.pdf_content = None\n",
    "        self.pdf_text = None\n",
    "        self.setup_widget()\n",
    "    \n",
    "    def setup_widget(self):\n",
    "        \"\"\"Set up the upload widget with PDF-only acceptance.\"\"\"\n",
    "        self.upload_widget = widgets.FileUpload(\n",
    "            accept='.pdf',  # Only accept PDF files\n",
    "            multiple=False,  # Only single file upload\n",
    "            description='Upload Resume (PDF only)'\n",
    "        )\n",
    "        self.upload_widget.observe(self.on_upload, names='value')\n",
    "    \n",
    "    def validate_pdf(self, file_content: bytes, filename: str) -> bool:\n",
    "        \"\"\"Validate if the uploaded file is a valid PDF.\"\"\"\n",
    "        # Check file extension\n",
    "        if not filename.lower().endswith('.pdf'):\n",
    "            return False\n",
    "        \n",
    "        # Check PDF signature (PDF files start with %PDF)\n",
    "        if file_content[:4] != b'%PDF':\n",
    "            return False\n",
    "        \n",
    "        return True\n",
    "    \n",
    "    def extract_text_with_pdfplumber(self, file_content: bytes) -> str:\n",
    "        \"\"\"Extract text from PDF using pdfplumber.\"\"\"\n",
    "        text = \"\"\n",
    "        try:\n",
    "            with pdfplumber.open(io.BytesIO(file_content)) as pdf:\n",
    "                for page in pdf.pages:\n",
    "                    page_text = page.extract_text()\n",
    "                    if page_text:\n",
    "                        text += page_text + \"\\n\\n\"\n",
    "        except Exception as e:\n",
    "            print(f\"Error with pdfplumber: {e}\")\n",
    "            return None\n",
    "        return text.strip()\n",
    "    \n",
    "    def extract_text_with_pypdf2(self, file_content: bytes) -> str:\n",
    "        \"\"\"Extract text from PDF using PyPDF2 as fallback.\"\"\"\n",
    "        text = \"\"\n",
    "        try:\n",
    "            pdf_reader = PyPDF2.PdfReader(io.BytesIO(file_content))\n",
    "            num_pages = len(pdf_reader.pages)\n",
    "            \n",
    "            for page_num in range(num_pages):\n",
    "                page = pdf_reader.pages[page_num]\n",
    "                text += page.extract_text() + \"\\n\\n\"\n",
    "        except Exception as e:\n",
    "            print(f\"Error with PyPDF2: {e}\")\n",
    "            return None\n",
    "        return text.strip()\n",
    "    \n",
    "    def on_upload(self, change):\n",
    "        \"\"\"Handle file upload event.\"\"\"\n",
    "        with self.status_output:\n",
    "            clear_output()\n",
    "            \n",
    "            if not change['new']:\n",
    "                return\n",
    "            \n",
    "            uploaded_file = change['new'][0]\n",
    "            filename = uploaded_file['name']\n",
    "            content = uploaded_file['content']\n",
    "            \n",
    "            # Validate PDF\n",
    "            if not self.validate_pdf(content, filename):\n",
    "                display(HTML(\n",
    "                    '<div style=\"color: red; font-weight: bold;\">'\n",
    "                    '❌ Error: Please upload a valid PDF file only. '\n",
    "                    'Other file formats are not accepted.'\n",
    "                    '</div>'\n",
    "                ))\n",
    "                # Clear the upload widget\n",
    "                self.upload_widget.value = ()\n",
    "                return\n",
    "            \n",
    "            # Success message\n",
    "            display(HTML(\n",
    "                f'<div style=\"color: green; font-weight: bold;\">'\n",
    "                f'✅ Successfully uploaded: {filename} ({len(content):,} bytes)'\n",
    "                f'</div>'\n",
    "            ))\n",
    "            \n",
    "            # Store the PDF content\n",
    "            self.pdf_content = content\n",
    "            \n",
    "            # Extract text from PDF\n",
    "            print(\"\\n📄 Extracting text from PDF...\")\n",
    "            \n",
    "            # Try pdfplumber first, then PyPDF2 as fallback\n",
    "            self.pdf_text = self.extract_text_with_pdfplumber(content)\n",
    "            if not self.pdf_text:\n",
    "                print(\"Trying alternative extraction method...\")\n",
    "                self.pdf_text = self.extract_text_with_pypdf2(content)\n",
    "            \n",
    "            if self.pdf_text:\n",
    "                print(\"✅ Text extraction successful!\")\n",
    "                self.display_content()\n",
    "            else:\n",
    "                print(\"❌ Could not extract text from the PDF.\")\n",
    "    \n",
    "    def display_content(self):\n",
    "        \"\"\"Display the extracted content.\"\"\"\n",
    "        with self.content_output:\n",
    "            clear_output()\n",
    "            \n",
    "            if self.pdf_text:\n",
    "                display(HTML('<h3>📋 Extracted Resume Content:</h3>'))\n",
    "                \n",
    "                # Create a scrollable text area\n",
    "                text_widget = widgets.Textarea(\n",
    "                    value=self.pdf_text,\n",
    "                    placeholder='Extracted text will appear here',\n",
    "                    description='',\n",
    "                    disabled=True,\n",
    "                    layout=widgets.Layout(width='100%', height='400px')\n",
    "                )\n",
    "                display(text_widget)\n",
    "                \n",
    "                # Display statistics\n",
    "                lines = self.pdf_text.split('\\n')\n",
    "                words = self.pdf_text.split()\n",
    "                display(HTML(\n",
    "                    f'<div style=\"margin-top: 10px;\">'\n",
    "                    f'<b>Statistics:</b><br>'\n",
    "                    f'• Lines: {len(lines)}<br>'\n",
    "                    f'• Words: {len(words)}<br>'\n",
    "                    f'• Characters: {len(self.pdf_text)}'\n",
    "                    f'</div>'\n",
    "                ))\n",
    "    \n",
    "    def display(self):\n",
    "        \"\"\"Display the complete upload interface.\"\"\"\n",
    "        display(HTML('<h2>📄 Resume PDF Uploader</h2>'))\n",
    "        display(HTML(\n",
    "            '<p style=\"color: #666;\">'\n",
    "            'Upload your resume in PDF format. The system will validate the file type '\n",
    "            'and extract the text content for further processing.'\n",
    "            '</p>'\n",
    "        ))\n",
    "        display(self.upload_widget)\n",
    "        display(self.status_output)\n",
    "        display(self.content_output)\n",
    "    \n",
    "    def get_extracted_text(self) -> Optional[str]:\n",
    "        \"\"\"Get the extracted text content.\"\"\"\n",
    "        return self.pdf_text\n",
    "    \n",
    "    def reset(self):\n",
    "        \"\"\"Reset the uploader.\"\"\"\n",
    "        self.upload_widget.value = ()\n",
    "        self.pdf_content = None\n",
    "        self.pdf_text = None\n",
    "        with self.status_output:\n",
    "            clear_output()\n",
    "        with self.content_output:\n",
    "            clear_output()"
   ]
  },
  {
   "cell_type": "markdown",
   "metadata": {},
   "source": [
    "## Step 4: Initialize and Display the PDF Uploader\n",
    "\n",
    "Run this cell to create the upload interface. You can then upload your PDF resume."
   ]
  },
  {
   "cell_type": "code",
   "execution_count": null,
   "metadata": {},
   "outputs": [],
   "source": [
    "# Create and display the PDF uploader\n",
    "uploader = PDFResumeUploader()\n",
    "uploader.display()"
   ]
  },
  {
   "cell_type": "markdown",
   "metadata": {},
   "source": [
    "## Step 5: Process Extracted Text (Optional)\n",
    "\n",
    "Once you've uploaded a PDF, you can access the extracted text for further processing."
   ]
  },
  {
   "cell_type": "code",
   "execution_count": null,
   "metadata": {},
   "outputs": [],
   "source": [
    "# Get the extracted text (run this after uploading a PDF)\n",
    "extracted_text = uploader.get_extracted_text()\n",
    "\n",
    "if extracted_text:\n",
    "    print(\"✅ Text successfully extracted and ready for processing!\")\n",
    "    print(f\"\\nFirst 500 characters of extracted text:\")\n",
    "    print(\"=\" * 50)\n",
    "    print(extracted_text[:500] + \"...\" if len(extracted_text) > 500 else extracted_text)\n",
    "else:\n",
    "    print(\"⚠️ No text has been extracted yet. Please upload a PDF file first.\")"
   ]
  },
  {
   "cell_type": "markdown",
   "metadata": {},
   "source": [
    "## Step 6: Reset Uploader (Optional)\n",
    "\n",
    "Use this to clear the current upload and start fresh."
   ]
  },
  {
   "cell_type": "code",
   "execution_count": null,
   "metadata": {},
   "outputs": [],
   "source": [
    "# Reset the uploader to upload a different file\n",
    "uploader.reset()\n",
    "print(\"🔄 Uploader has been reset. You can now upload a new PDF file.\")"
   ]
  },
  {
   "cell_type": "markdown",
   "metadata": {},
   "source": [
    "## Next Steps\n",
    "\n",
    "In future versions, we can:\n",
    "1. Parse the extracted text to identify sections (Education, Experience, Skills, etc.)\n",
    "2. Structure the data into a standardized format\n",
    "3. Allow editing of the extracted information\n",
    "4. Generate new resumes with different templates\n",
    "5. Support additional file formats (DOCX, TXT, etc.)"
   ]
  }
 ],
 "metadata": {
  "kernelspec": {
   "display_name": "Python 3",
   "language": "python",
   "name": "python3"
  },
  "language_info": {
   "codemirror_mode": {
    "name": "ipython",
    "version": 3
   },
   "file_extension": ".py",
   "mimetype": "text/x-python",
   "name": "python",
   "nbconvert_exporter": "python",
   "pygments_lexer": "ipython3",
   "version": "3.9.0"
  }
 },
 "nbformat": 4,
 "nbformat_minor": 4
}
